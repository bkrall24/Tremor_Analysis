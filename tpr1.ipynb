{
 "cells": [
  {
   "cell_type": "code",
   "execution_count": null,
   "metadata": {},
   "outputs": [],
   "source": [
    "# process\n",
    "# load excel sheets with data\n",
    "# set parameters (time of bins, frequency bands, designate one as 'tremor frequency')\n",
    "# calculate averages for each animal\n",
    "# compile averages for each animal into sheet\n",
    "# calculate TPR for each bin \n",
    "# output data in exact format for prism\n",
    "    # parameterize group and animal numbers as input\n",
    "    # organize data as columns == animals, rows == time bins, columns organized by group"
   ]
  },
  {
   "cell_type": "code",
   "execution_count": 3,
   "metadata": {},
   "outputs": [],
   "source": [
    "import pandas as pd\n",
    "import numpy as np"
   ]
  },
  {
   "cell_type": "code",
   "execution_count": 4,
   "metadata": {},
   "outputs": [],
   "source": [
    "fn = \"/Users/rebeccakrall/Data/Tremor Project/TPR data all animals.xlsx\"\n",
    "excel_tables = pd.read_excel(fn, sheet_name=None)\n"
   ]
  },
  {
   "cell_type": "code",
   "execution_count": 5,
   "metadata": {},
   "outputs": [],
   "source": [
    "animal_key = pd.read_excel(\"/Users/rebeccakrall/Data/Tremor Project/Animal_group_key.xlsx\", index_col = 0)"
   ]
  },
  {
   "cell_type": "code",
   "execution_count": 6,
   "metadata": {},
   "outputs": [],
   "source": [
    "animals = [a for a in excel_tables.keys() if a != 'Summary']"
   ]
  },
  {
   "cell_type": "code",
   "execution_count": 7,
   "metadata": {},
   "outputs": [],
   "source": [
    "sheet = excel_tables[animals[0]]"
   ]
  },
  {
   "cell_type": "code",
   "execution_count": 55,
   "metadata": {},
   "outputs": [],
   "source": [
    "data = sheet.iloc[0:256, :].set_index('f (Hz)').iloc[:, 2:]\n",
    "new_cols = np.linspace(0, 10.24 * (sheet.shape[1]-1), sheet.shape[1])/60\n",
    "\n",
    "data.columns = new_cols[2:-1]"
   ]
  },
  {
   "cell_type": "code",
   "execution_count": 50,
   "metadata": {},
   "outputs": [],
   "source": [
    "parameters = {'hz': [2,8,14,25], 'bin_time': 5, 'col_time':10.24, 'exp_length' : 60, 'tremor_freq': 1}"
   ]
  },
  {
   "cell_type": "code",
   "execution_count": 53,
   "metadata": {},
   "outputs": [],
   "source": [
    "def process_excel_sheet(sheet, parameters):\n",
    "    \n",
    "    data = sheet.iloc[0:256, :].set_index('f (Hz)').iloc[:, 2:]\n",
    "    new_cols = np.linspace(0, parameters['col_time'] * (sheet.shape[1]-1), sheet.shape[1])/60\n",
    "    data.columns = new_cols[2:-1]\n",
    "\n",
    "    col_bins = np.linspace(0, parameters['exp_length'] , int(parameters['exp_length'] / parameters['bin_time']) +1)\n",
    "    frequency_bins  = pd.cut(data.index, bins = parameters['hz'])\n",
    "    time_bins = pd.cut(data.columns, bins = col_bins) \n",
    "    a = data.groupby([frequency_bins], observed = False).mean().T.groupby([time_bins], observed = False).mean() * 1000\n",
    "\n",
    "    non_target_columns = [col for col in range(len(a.columns)) if col != parameters['tremor_freq']]\n",
    "    tpr = 2 * a.iloc[:, parameters['tremor_freq']] / a.iloc[:, non_target_columns].sum(axis=1)\n",
    "    # tpr = 2 * a.iloc[:,parameters['tremor_freq']] / (a.iloc[:,0]+ a.iloc[:,2])\n",
    "\n",
    "    return a, tpr\n",
    "   "
   ]
  },
  {
   "cell_type": "code",
   "execution_count": 54,
   "metadata": {},
   "outputs": [],
   "source": [
    "def compile_excel_sheets(excel_tables, animals, animal_key, parameters):\n",
    "    columns = pd.MultiIndex(levels=[[], []], codes=[[], []], names=[ 'Group', 'Subject'])\n",
    "    tprs = pd.DataFrame(columns = columns)\n",
    "\n",
    "    columns2 = pd.MultiIndex(levels=[[], [], []], codes=[[], [],[]], names=[ 'Group', 'Subject', 'Frequency'])\n",
    "    freqs = pd.DataFrame(columns=columns2)\n",
    "\n",
    "    all_freq = []\n",
    "    for an in animals:\n",
    "        if int(an) in animal_key.index:\n",
    "            group = animal_key.loc[int(an), 'GROUP']\n",
    "            column_index = (group, an)\n",
    "\n",
    "            freq, trp = process_excel_sheet(excel_tables[an], parameters)\n",
    "            \n",
    "            multi_index = pd.MultiIndex.from_arrays([[group] * 3, [an] * 3, freq.columns], names=['Group', 'Subject', 'Frequency'])\n",
    "            freq.columns = multi_index\n",
    "            # freqs[multi_index] = freq\n",
    "\n",
    "            all_freq.append(freq)\n",
    "            tprs[column_index] = trp\n",
    "\n",
    "    freqs = pd.concat(all_freq, axis = 1)\n",
    "\n",
    "    return freqs, tprs"
   ]
  },
  {
   "cell_type": "code",
   "execution_count": 51,
   "metadata": {},
   "outputs": [],
   "source": [
    "non_target_columns = [col for col in range(len(a.columns)) if col != parameters['tremor_freq']]"
   ]
  },
  {
   "cell_type": "code",
   "execution_count": 56,
   "metadata": {},
   "outputs": [],
   "source": [
    "a, tpr = process_excel_sheet(excel_tables['11'], parameters)"
   ]
  },
  {
   "cell_type": "code",
   "execution_count": 57,
   "metadata": {},
   "outputs": [
    {
     "data": {
      "text/html": [
       "<div>\n",
       "<style scoped>\n",
       "    .dataframe tbody tr th:only-of-type {\n",
       "        vertical-align: middle;\n",
       "    }\n",
       "\n",
       "    .dataframe tbody tr th {\n",
       "        vertical-align: top;\n",
       "    }\n",
       "\n",
       "    .dataframe thead th {\n",
       "        text-align: right;\n",
       "    }\n",
       "</style>\n",
       "<table border=\"1\" class=\"dataframe\">\n",
       "  <thead>\n",
       "    <tr style=\"text-align: right;\">\n",
       "      <th></th>\n",
       "      <th>(2, 8]</th>\n",
       "      <th>(8, 14]</th>\n",
       "      <th>(14, 25]</th>\n",
       "    </tr>\n",
       "  </thead>\n",
       "  <tbody>\n",
       "    <tr>\n",
       "      <th>(0.0, 5.0]</th>\n",
       "      <td>194.24824</td>\n",
       "      <td>71.090213</td>\n",
       "      <td>14.772575</td>\n",
       "    </tr>\n",
       "    <tr>\n",
       "      <th>(5.0, 10.0]</th>\n",
       "      <td>67.937679</td>\n",
       "      <td>30.983979</td>\n",
       "      <td>6.499227</td>\n",
       "    </tr>\n",
       "    <tr>\n",
       "      <th>(10.0, 15.0]</th>\n",
       "      <td>11.835019</td>\n",
       "      <td>22.129304</td>\n",
       "      <td>3.523532</td>\n",
       "    </tr>\n",
       "    <tr>\n",
       "      <th>(15.0, 20.0]</th>\n",
       "      <td>0.538345</td>\n",
       "      <td>1.112722</td>\n",
       "      <td>0.634037</td>\n",
       "    </tr>\n",
       "    <tr>\n",
       "      <th>(20.0, 25.0]</th>\n",
       "      <td>74.081411</td>\n",
       "      <td>41.556834</td>\n",
       "      <td>7.778708</td>\n",
       "    </tr>\n",
       "    <tr>\n",
       "      <th>(25.0, 30.0]</th>\n",
       "      <td>91.917646</td>\n",
       "      <td>52.9152</td>\n",
       "      <td>9.977079</td>\n",
       "    </tr>\n",
       "    <tr>\n",
       "      <th>(30.0, 35.0]</th>\n",
       "      <td>7.083173</td>\n",
       "      <td>8.373174</td>\n",
       "      <td>3.407546</td>\n",
       "    </tr>\n",
       "    <tr>\n",
       "      <th>(35.0, 40.0]</th>\n",
       "      <td>15.959205</td>\n",
       "      <td>19.969055</td>\n",
       "      <td>4.330484</td>\n",
       "    </tr>\n",
       "    <tr>\n",
       "      <th>(40.0, 45.0]</th>\n",
       "      <td>0.133972</td>\n",
       "      <td>0.626267</td>\n",
       "      <td>0.554065</td>\n",
       "    </tr>\n",
       "    <tr>\n",
       "      <th>(45.0, 50.0]</th>\n",
       "      <td>0.283087</td>\n",
       "      <td>0.904476</td>\n",
       "      <td>0.776319</td>\n",
       "    </tr>\n",
       "    <tr>\n",
       "      <th>(50.0, 55.0]</th>\n",
       "      <td>7.577401</td>\n",
       "      <td>11.400451</td>\n",
       "      <td>5.788751</td>\n",
       "    </tr>\n",
       "    <tr>\n",
       "      <th>(55.0, 60.0]</th>\n",
       "      <td>0.236756</td>\n",
       "      <td>0.284824</td>\n",
       "      <td>0.67801</td>\n",
       "    </tr>\n",
       "  </tbody>\n",
       "</table>\n",
       "</div>"
      ],
      "text/plain": [
       "                 (2, 8]    (8, 14]   (14, 25]\n",
       "(0.0, 5.0]    194.24824  71.090213  14.772575\n",
       "(5.0, 10.0]   67.937679  30.983979   6.499227\n",
       "(10.0, 15.0]  11.835019  22.129304   3.523532\n",
       "(15.0, 20.0]   0.538345   1.112722   0.634037\n",
       "(20.0, 25.0]  74.081411  41.556834   7.778708\n",
       "(25.0, 30.0]  91.917646    52.9152   9.977079\n",
       "(30.0, 35.0]   7.083173   8.373174   3.407546\n",
       "(35.0, 40.0]  15.959205  19.969055   4.330484\n",
       "(40.0, 45.0]   0.133972   0.626267   0.554065\n",
       "(45.0, 50.0]   0.283087   0.904476   0.776319\n",
       "(50.0, 55.0]   7.577401  11.400451   5.788751\n",
       "(55.0, 60.0]   0.236756   0.284824    0.67801"
      ]
     },
     "execution_count": 57,
     "metadata": {},
     "output_type": "execute_result"
    }
   ],
   "source": [
    "a"
   ]
  },
  {
   "cell_type": "code",
   "execution_count": 58,
   "metadata": {},
   "outputs": [
    {
     "data": {
      "text/plain": [
       "(0.0, 5.0]      0.680221\n",
       "(5.0, 10.0]      0.83249\n",
       "(10.0, 15.0]    2.881692\n",
       "(15.0, 20.0]    1.898223\n",
       "(20.0, 25.0]    1.015313\n",
       "(25.0, 30.0]    1.038625\n",
       "(30.0, 35.0]    1.596301\n",
       "(35.0, 40.0]    1.968394\n",
       "(40.0, 45.0]    1.820446\n",
       "(45.0, 50.0]    1.707514\n",
       "(50.0, 55.0]    1.705869\n",
       "(55.0, 60.0]    0.622725\n",
       "dtype: object"
      ]
     },
     "execution_count": 58,
     "metadata": {},
     "output_type": "execute_result"
    }
   ],
   "source": [
    "tpr"
   ]
  },
  {
   "cell_type": "code",
   "execution_count": null,
   "metadata": {},
   "outputs": [],
   "source": []
  }
 ],
 "metadata": {
  "kernelspec": {
   "display_name": "ofa",
   "language": "python",
   "name": "python3"
  },
  "language_info": {
   "codemirror_mode": {
    "name": "ipython",
    "version": 3
   },
   "file_extension": ".py",
   "mimetype": "text/x-python",
   "name": "python",
   "nbconvert_exporter": "python",
   "pygments_lexer": "ipython3",
   "version": "3.11.4"
  }
 },
 "nbformat": 4,
 "nbformat_minor": 2
}
